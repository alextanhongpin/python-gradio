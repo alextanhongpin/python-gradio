{
 "cells": [
  {
   "cell_type": "code",
   "execution_count": 1,
   "id": "0bcca1b4-0289-479e-a76f-36034f3d4d7a",
   "metadata": {},
   "outputs": [],
   "source": [
    "import os\n",
    "hf_api_key = os.environ['HF_API_KEY']"
   ]
  },
  {
   "cell_type": "code",
   "execution_count": 2,
   "id": "07144d2b-4740-4b6d-91cc-9d7edad15c65",
   "metadata": {},
   "outputs": [
    {
     "name": "stderr",
     "output_type": "stream",
     "text": [
      "/Users/alextanhongpin/Documents/python/python-gradio/.venv/lib/python3.11/site-packages/tqdm/auto.py:21: TqdmWarning: IProgress not found. Please update jupyter and ipywidgets. See https://ipywidgets.readthedocs.io/en/stable/user_install.html\n",
      "  from .autonotebook import tqdm as notebook_tqdm\n"
     ]
    },
    {
     "data": {
      "text/plain": [
       "<InferenceClient(model='', timeout=None)>"
      ]
     },
     "execution_count": 2,
     "metadata": {},
     "output_type": "execute_result"
    }
   ],
   "source": [
    "from huggingface_hub import InferenceClient\n",
    "client = InferenceClient(token=hf_api_key)\n",
    "client"
   ]
  },
  {
   "cell_type": "code",
   "execution_count": 3,
   "id": "c8b393ee-a26e-47bb-905d-5b0120f4f573",
   "metadata": {},
   "outputs": [
    {
     "data": {
      "text/plain": [
       "'The Eiffel Tower is 324 metres (1,063 ft) tall and the tallest structure in Paris. It is the second tallest free-standing structure in France after the Millau Viaduct. It was the first structure to reach a height of 300 metres and it is now taller than the Chrysler Building by 5.2 metres.'"
      ]
     },
     "execution_count": 3,
     "metadata": {},
     "output_type": "execute_result"
    }
   ],
   "source": [
    "text = ('''The tower is 324 metres (1,063 ft) tall, about the same height\n",
    "        as an 81-storey building, and the tallest structure in Paris. \n",
    "        Its base is square, measuring 125 metres (410 ft) on each side. \n",
    "        During its construction, the Eiffel Tower surpassed the Washington \n",
    "        Monument to become the tallest man-made structure in the world,\n",
    "        a title it held for 41 years until the Chrysler Building\n",
    "        in New York City was finished in 1930. It was the first structure \n",
    "        to reach a height of 300 metres. Due to the addition of a broadcasting \n",
    "        aerial at the top of the tower in 1957, it is now taller than the \n",
    "        Chrysler Building by 5.2 metres (17 ft). Excluding transmitters, the \n",
    "        Eiffel Tower is the second tallest free-standing structure in France \n",
    "        after the Millau Viaduct.''')\n",
    "\n",
    "client.summarization(text, model='philschmid/bart-large-cnn-samsum')"
   ]
  },
  {
   "cell_type": "code",
   "execution_count": 4,
   "id": "d0587225-de45-40cc-858e-f69a8be231b0",
   "metadata": {},
   "outputs": [],
   "source": [
    "import gradio as gr"
   ]
  },
  {
   "cell_type": "code",
   "execution_count": 6,
   "id": "63b8957f-e602-4845-94b7-42f5d218fbdf",
   "metadata": {},
   "outputs": [
    {
     "name": "stdout",
     "output_type": "stream",
     "text": [
      "Closing server running on port: 5001\n",
      "Running on local URL:  http://127.0.0.1:5001\n",
      "\n",
      "To create a public link, set `share=True` in `launch()`.\n"
     ]
    },
    {
     "data": {
      "text/html": [
       "<div><iframe src=\"http://127.0.0.1:5001/\" width=\"100%\" height=\"500\" allow=\"autoplay; camera; microphone; clipboard-read; clipboard-write;\" frameborder=\"0\" allowfullscreen></iframe></div>"
      ],
      "text/plain": [
       "<IPython.core.display.HTML object>"
      ]
     },
     "metadata": {},
     "output_type": "display_data"
    },
    {
     "data": {
      "text/plain": []
     },
     "execution_count": 6,
     "metadata": {},
     "output_type": "execute_result"
    }
   ],
   "source": [
    "def summarize(input):\n",
    "    # output = f\"Hello {input}\"\n",
    "    output = client.summarization(input, model='philschmid/bart-large-cnn-samsum')\n",
    "    return output\n",
    "\n",
    "gr.close_all()\n",
    "\n",
    "demo = gr.Interface(fn=summarize, \n",
    "                    inputs='text', \n",
    "                    outputs='text',)\n",
    "demo.launch(share=False, server_port=5001)"
   ]
  },
  {
   "cell_type": "code",
   "execution_count": 7,
   "id": "2d833201-a090-4306-8987-7d888fff6446",
   "metadata": {},
   "outputs": [
    {
     "name": "stdout",
     "output_type": "stream",
     "text": [
      "Closing server running on port: 5001\n",
      "Closing server running on port: 5001\n"
     ]
    }
   ],
   "source": [
    "gr.close_all()"
   ]
  },
  {
   "cell_type": "code",
   "execution_count": 8,
   "id": "b48703f5-fcd1-4c77-b64c-d6f646af2ca5",
   "metadata": {},
   "outputs": [
    {
     "name": "stdout",
     "output_type": "stream",
     "text": [
      "Running on local URL:  http://127.0.0.1:5001\n",
      "\n",
      "To create a public link, set `share=True` in `launch()`.\n"
     ]
    },
    {
     "data": {
      "text/html": [
       "<div><iframe src=\"http://127.0.0.1:5001/\" width=\"100%\" height=\"500\" allow=\"autoplay; camera; microphone; clipboard-read; clipboard-write;\" frameborder=\"0\" allowfullscreen></iframe></div>"
      ],
      "text/plain": [
       "<IPython.core.display.HTML object>"
      ]
     },
     "metadata": {},
     "output_type": "display_data"
    },
    {
     "data": {
      "text/plain": []
     },
     "execution_count": 8,
     "metadata": {},
     "output_type": "execute_result"
    }
   ],
   "source": [
    "demo = gr.Interface(fn=summarize,\n",
    "                    inputs=[gr.Textbox(label='Text to summarize', lines=6)],\n",
    "                    outputs=[gr.Textbox(label='Result', lines=3)],\n",
    "                    title='Text Summarization',\n",
    "                    description='Summarize any text')\n",
    "demo.launch(share=False, server_port=5001)"
   ]
  },
  {
   "cell_type": "code",
   "execution_count": 9,
   "id": "888b423e-ebcb-4ae5-b26e-69b3e17797e4",
   "metadata": {},
   "outputs": [
    {
     "name": "stdout",
     "output_type": "stream",
     "text": [
      "Closing server running on port: 5001\n",
      "Closing server running on port: 5001\n",
      "Closing server running on port: 5001\n"
     ]
    }
   ],
   "source": [
    "gr.close_all()"
   ]
  },
  {
   "cell_type": "code",
   "execution_count": 10,
   "id": "e42c1743-b451-45bb-aefd-5d9cce61ea96",
   "metadata": {},
   "outputs": [
    {
     "data": {
      "text/plain": [
       "[{'entity_group': 'PERSON',\n",
       "  'word': 'John',\n",
       "  'start': 9,\n",
       "  'end': 13,\n",
       "  'score': 0.999967098236084}]"
      ]
     },
     "execution_count": 10,
     "metadata": {},
     "output_type": "execute_result"
    }
   ],
   "source": [
    "client.token_classification('Hi, I am John', model='flair/ner-english-ontonotes-large')"
   ]
  },
  {
   "cell_type": "code",
   "execution_count": 16,
   "id": "82b87184-7060-42b8-966c-78f537f83a90",
   "metadata": {},
   "outputs": [],
   "source": [
    "def ner(input):\n",
    "    output = client.token_classification(input, model='flair/ner-english-ontonotes-large')\n",
    "#     output = [{'entity_group': 'PER',\n",
    "# 'score': 0.9971321225166321,\n",
    "# 'word': 'Sarah Jessica Parker',\n",
    "# 'start': 11,\n",
    "# 'end': 31},\n",
    "# {'entity_group': 'PER',\n",
    "# 'score': 0.9773476123809814,\n",
    "# 'word': 'Jessica',\n",
    "# 'start': 52,\n",
    "# 'end': 59}]\n",
    "    return {'text': input, 'entities': output}"
   ]
  },
  {
   "cell_type": "code",
   "execution_count": 19,
   "id": "54c2635a-5d6a-4fe2-afcc-150d388e301f",
   "metadata": {},
   "outputs": [
    {
     "name": "stdout",
     "output_type": "stream",
     "text": [
      "Running on local URL:  http://127.0.0.1:5001\n",
      "\n",
      "To create a public link, set `share=True` in `launch()`.\n"
     ]
    },
    {
     "data": {
      "text/html": [
       "<div><iframe src=\"http://127.0.0.1:5001/\" width=\"100%\" height=\"500\" allow=\"autoplay; camera; microphone; clipboard-read; clipboard-write;\" frameborder=\"0\" allowfullscreen></iframe></div>"
      ],
      "text/plain": [
       "<IPython.core.display.HTML object>"
      ]
     },
     "metadata": {},
     "output_type": "display_data"
    },
    {
     "data": {
      "text/plain": []
     },
     "execution_count": 19,
     "metadata": {},
     "output_type": "execute_result"
    }
   ],
   "source": [
    "demo = gr.Interface(fn=ner,\n",
    "                    inputs=[gr.Textbox(label='Text to find entities', lines=2)],\n",
    "                    outputs=[gr.HighlightedText(label='Text with entities')],\n",
    "                    title='NER',\n",
    "                    description='Find entities',\n",
    "                    allow_flagging='never',\n",
    "                    examples=['Hi, my name is John', 'Apple is a trillion-dollar company'])\n",
    "demo.launch(share=False, server_port=5001)"
   ]
  },
  {
   "cell_type": "code",
   "execution_count": 20,
   "id": "66f365be-5cb8-4620-9502-b12a526e25df",
   "metadata": {},
   "outputs": [
    {
     "name": "stdout",
     "output_type": "stream",
     "text": [
      "Closing server running on port: 5001\n",
      "Closing server running on port: 5001\n",
      "Closing server running on port: 5001\n",
      "Closing server running on port: 5001\n",
      "Closing server running on port: 5001\n"
     ]
    }
   ],
   "source": [
    "gr.close_all()"
   ]
  },
  {
   "cell_type": "code",
   "execution_count": null,
   "id": "f67ee472-6766-40c4-a200-17e0e2cad468",
   "metadata": {},
   "outputs": [],
   "source": []
  }
 ],
 "metadata": {
  "kernelspec": {
   "display_name": "Python 3 (ipykernel)",
   "language": "python",
   "name": "python3"
  },
  "language_info": {
   "codemirror_mode": {
    "name": "ipython",
    "version": 3
   },
   "file_extension": ".py",
   "mimetype": "text/x-python",
   "name": "python",
   "nbconvert_exporter": "python",
   "pygments_lexer": "ipython3",
   "version": "3.11.6"
  }
 },
 "nbformat": 4,
 "nbformat_minor": 5
}
